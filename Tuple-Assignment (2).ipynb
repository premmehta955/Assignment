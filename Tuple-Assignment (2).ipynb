{
 "cells": [
  {
   "cell_type": "markdown",
   "id": "ff78a8e1-a5ae-4422-b1ce-07257f65998a",
   "metadata": {},
   "source": [
    "Q1. What is a tuple in Python?"
   ]
  },
  {
   "cell_type": "markdown",
   "id": "40e0bb06-99ef-42bf-afa4-546a2ba93a31",
   "metadata": {},
   "source": [
    "Tuple is a collection of an element or objects that is immutable and present between small bracket notation."
   ]
  },
  {
   "cell_type": "markdown",
   "id": "3578c285-f297-4030-9c6c-917a64127b50",
   "metadata": {},
   "source": [
    "Q2. How do you create a tuple in Python?"
   ]
  },
  {
   "cell_type": "markdown",
   "id": "40c5f260-7e93-464b-bdb6-7c5d6553947a",
   "metadata": {},
   "source": [
    "I create a tuple in python by following syntax:\n",
    "     Tuple_name=(element, element ) # implementation"
   ]
  },
  {
   "cell_type": "markdown",
   "id": "fa4e2206-da28-48d7-a041-c231a7c1c7f5",
   "metadata": {},
   "source": [
    "Q3. What is the difference between a tuple and a list in Python?"
   ]
  },
  {
   "cell_type": "markdown",
   "id": "968d08c3-f662-414c-a5ac-be5f78a54a78",
   "metadata": {},
   "source": [
    "Difference between a tuple and a list:"
   ]
  },
  {
   "cell_type": "raw",
   "id": "8ea89f6a-0107-4bfd-8bb1-0dcc1fc10ed1",
   "metadata": {},
   "source": [
    "For tuple:\n",
    "    1. Tuple are immutable.\n",
    "    2. In tuple, Elements are prensent between small bracket notation."
   ]
  },
  {
   "cell_type": "raw",
   "id": "76a85edb-a9ce-424e-8163-0cbd45bdc2eb",
   "metadata": {},
   "source": [
    "For list: \n",
    "    1. List are mutable.\n",
    "    2. In list, Elements are present between big bracket notation."
   ]
  },
  {
   "cell_type": "markdown",
   "id": "0fdf4c38-ed14-4e2a-9131-ade394651ffc",
   "metadata": {},
   "source": [
    "Q4. Can a tuple be changed in Python?"
   ]
  },
  {
   "cell_type": "markdown",
   "id": "1f1e4da6-a546-4c01-80cb-6436535ddebd",
   "metadata": {},
   "source": [
    "As tuple are immutable, it cannot be changed in python directly but we can change it by converting into list where change is done and again reconvert into tuple."
   ]
  },
  {
   "cell_type": "markdown",
   "id": "5dd7712b-e4e7-45b0-bfa5-e4cc4d192cac",
   "metadata": {},
   "source": [
    "Q5. How do you access elements in a tuple?"
   ]
  },
  {
   "cell_type": "markdown",
   "id": "7af0dd9b-57c3-4733-9b1c-763774b1605e",
   "metadata": {},
   "source": [
    "I can access element in a tuple by using index number of element inside big bracket.\n"
   ]
  },
  {
   "cell_type": "code",
   "execution_count": 1,
   "id": "c304f52d-8dbc-4b17-a042-ba06bd68c29e",
   "metadata": {},
   "outputs": [
    {
     "name": "stdout",
     "output_type": "stream",
     "text": [
      "4\n"
     ]
    }
   ],
   "source": [
    "# example of tuple\n",
    "tuple=(4,6,1,2,9)\n",
    "print(tuple[0]) # where 0 is index number of element."
   ]
  },
  {
   "cell_type": "markdown",
   "id": "9fa62d7a-938d-4533-a278-ba74d6ea1297",
   "metadata": {},
   "source": [
    "Q6. How do you unpack a tuple in Python?"
   ]
  },
  {
   "cell_type": "markdown",
   "id": "7bb56c76-c666-4499-a6be-dc9523dbd213",
   "metadata": {},
   "source": [
    "I would like to unpack a tuple like:"
   ]
  },
  {
   "cell_type": "code",
   "execution_count": 2,
   "id": "6d4a35e6-dfa6-4330-b37e-604ef78f0738",
   "metadata": {},
   "outputs": [
    {
     "name": "stdout",
     "output_type": "stream",
     "text": [
      "Ram\n",
      "Hari\n",
      "Prem\n",
      "Shiv\n"
     ]
    }
   ],
   "source": [
    "name=(\"Ram\", \"Hari\", \"Prem\", \"Shiv\") # value or element assign to variable called packing\n",
    "(Sita, Gita, Alisha, Sati)=name  # value or element extract into variable \n",
    "print(Sita)\n",
    "print(Gita)\n",
    "print(Alisha)\n",
    "print(Sati)"
   ]
  },
  {
   "cell_type": "code",
   "execution_count": null,
   "id": "a5706fc3-315d-4a5b-973d-6a830435c674",
   "metadata": {},
   "outputs": [],
   "source": []
  }
 ],
 "metadata": {
  "kernelspec": {
   "display_name": "Python 3 (ipykernel)",
   "language": "python",
   "name": "python3"
  },
  "language_info": {
   "codemirror_mode": {
    "name": "ipython",
    "version": 3
   },
   "file_extension": ".py",
   "mimetype": "text/x-python",
   "name": "python",
   "nbconvert_exporter": "python",
   "pygments_lexer": "ipython3",
   "version": "3.10.8"
  }
 },
 "nbformat": 4,
 "nbformat_minor": 5
}
