{
 "cells": [
  {
   "cell_type": "markdown",
   "id": "ee9db8d1-8ecb-409b-b762-4c657f642aec",
   "metadata": {},
   "source": [
    "Q1. What is a set in Python?"
   ]
  },
  {
   "cell_type": "markdown",
   "id": "838ee8db-31a2-482b-94ac-57480fa47a8b",
   "metadata": {},
   "source": [
    "Set in python is defined as the data structure that remove element or data duplicatation ."
   ]
  },
  {
   "cell_type": "markdown",
   "id": "2890a3bc-a0f0-40b3-a2d8-ac49861c1571",
   "metadata": {},
   "source": [
    "Q2.How do you create a set in Python?"
   ]
  },
  {
   "cell_type": "raw",
   "id": "a5ebce7b-43ce-46aa-9fa0-f956e65a6902",
   "metadata": {},
   "source": [
    "I create a set in python by following syntax:"
   ]
  },
  {
   "cell_type": "raw",
   "id": "c3bdee91-8470-4e86-b7f9-132fbc5ef6c7",
   "metadata": {},
   "source": [
    "Syntax:\n",
    "set_name={elements}"
   ]
  },
  {
   "cell_type": "markdown",
   "id": "11f83ce5-8a3d-4b44-9486-999a8aaf2002",
   "metadata": {},
   "source": [
    "Q3. How do you add elements to a set in Python?"
   ]
  },
  {
   "cell_type": "raw",
   "id": "6a70a1d1-cf7e-46c4-929a-9b46896e83e2",
   "metadata": {},
   "source": [
    "I add element to a set in python by following syntax:"
   ]
  },
  {
   "cell_type": "raw",
   "id": "7cab4b9f-ce73-42a1-8e66-2c4b16b409ab",
   "metadata": {},
   "source": [
    "Syntax:\n",
    "set_name.add(new_element)"
   ]
  },
  {
   "cell_type": "markdown",
   "id": "d40a4d0c-7abd-4632-9587-ef0b593edf42",
   "metadata": {},
   "source": [
    "Q4. How do you remove elements from a set in Python?"
   ]
  },
  {
   "cell_type": "raw",
   "id": "ffbf8fb2-0064-44d9-b814-8504419eb774",
   "metadata": {},
   "source": [
    "I remove element from a set in python by following syntax:"
   ]
  },
  {
   "cell_type": "raw",
   "id": "a8cf5421-c5f8-402c-ae39-c60d85ceaff4",
   "metadata": {},
   "source": [
    "Syntax:\n",
    "set_name.remove(element_name)"
   ]
  },
  {
   "cell_type": "markdown",
   "id": "21520fa5-8c4d-49d6-a5ce-500692c0974e",
   "metadata": {},
   "source": [
    "Q5. How do you get the length of a set in Python?"
   ]
  },
  {
   "cell_type": "markdown",
   "id": "2eb163ac-906b-4f93-806f-b7644c484588",
   "metadata": {},
   "source": [
    "I get the length of a set in python by following syntax:"
   ]
  },
  {
   "cell_type": "raw",
   "id": "c038718c-aba0-4c19-b24e-8101c1c43054",
   "metadata": {},
   "source": [
    "Syntax:\n",
    "print(len(set_name))"
   ]
  },
  {
   "cell_type": "code",
   "execution_count": null,
   "id": "f036987a-6768-45f6-a5cd-ff88003ce341",
   "metadata": {},
   "outputs": [],
   "source": []
  }
 ],
 "metadata": {
  "kernelspec": {
   "display_name": "Python 3 (ipykernel)",
   "language": "python",
   "name": "python3"
  },
  "language_info": {
   "codemirror_mode": {
    "name": "ipython",
    "version": 3
   },
   "file_extension": ".py",
   "mimetype": "text/x-python",
   "name": "python",
   "nbconvert_exporter": "python",
   "pygments_lexer": "ipython3",
   "version": "3.10.8"
  }
 },
 "nbformat": 4,
 "nbformat_minor": 5
}
