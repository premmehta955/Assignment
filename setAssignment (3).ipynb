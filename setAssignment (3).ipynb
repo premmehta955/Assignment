{
 "cells": [
  {
   "cell_type": "markdown",
   "id": "6e1d1376-34fd-45e6-ac9a-faf474877acf",
   "metadata": {},
   "source": [
    "Q1. What is a set in Python?"
   ]
  },
  {
   "cell_type": "markdown",
   "id": "a022f04d-abee-40d9-83b0-58a3435019ed",
   "metadata": {},
   "source": [
    "Set in python is defined as the data structure that remove element or data duplicatation ."
   ]
  },
  {
   "cell_type": "markdown",
   "id": "90946842-aafa-4e13-9596-26aa74e7f700",
   "metadata": {},
   "source": [
    "Q2.How do you create a set in Python?"
   ]
  },
  {
   "cell_type": "markdown",
   "id": "e66f437c-3564-4066-a38e-0e7ca57289d5",
   "metadata": {},
   "source": [
    "I create a set in python by following syntax:"
   ]
  },
  {
   "cell_type": "markdown",
   "id": "5921115a-6062-402a-90fd-36b7f982cd4e",
   "metadata": {},
   "source": [
    "Syntax:\n",
    "set_name={elements}"
   ]
  },
  {
   "cell_type": "markdown",
   "id": "7bd20d2c-7cfb-4ef5-b54b-e9e0f79deba4",
   "metadata": {},
   "source": [
    "Q3. How do you add elements to a set in Python?"
   ]
  },
  {
   "cell_type": "markdown",
   "id": "71f3df40-1422-4589-9dfa-40950ec87174",
   "metadata": {},
   "source": [
    "I add element to a set in python by following syntax:"
   ]
  },
  {
   "cell_type": "markdown",
   "id": "ac73915d-b950-44ec-ad41-74d0d4e56a31",
   "metadata": {},
   "source": [
    "Syntax:\n",
    "set_name.add(new_element)"
   ]
  },
  {
   "cell_type": "markdown",
   "id": "6c15514f-82bf-4a05-a6a1-92c3fba65d64",
   "metadata": {},
   "source": [
    "Q4. How do you remove elements from a set in Python?"
   ]
  },
  {
   "cell_type": "markdown",
   "id": "c9b7bddf-cc21-4339-8362-2a9d3ae18cab",
   "metadata": {},
   "source": [
    "I remove element from a set in python by following syntax:"
   ]
  },
  {
   "cell_type": "markdown",
   "id": "3efdab58-8b08-4fef-9cee-9455d44ce117",
   "metadata": {},
   "source": [
    "Syntax:\n",
    "set_name.remove(element_name)"
   ]
  },
  {
   "cell_type": "markdown",
   "id": "7726b09c-aa64-47ba-b1d6-a888ea43de6f",
   "metadata": {},
   "source": [
    "Q5. How do you get the length of a set in Python?"
   ]
  },
  {
   "cell_type": "markdown",
   "id": "2eb163ac-906b-4f93-806f-b7644c484588",
   "metadata": {},
   "source": [
    "I get the length of a set in python by following syntax:"
   ]
  },
  {
   "cell_type": "markdown",
   "id": "ff450760-1ef9-4659-8f6e-2b26fab89557",
   "metadata": {},
   "source": [
    "Syntax:\n",
    "print(len(set_name))"
   ]
  }
 ],
 "metadata": {
  "kernelspec": {
   "display_name": "Python 3 (ipykernel)",
   "language": "python",
   "name": "python3"
  },
  "language_info": {
   "codemirror_mode": {
    "name": "ipython",
    "version": 3
   },
   "file_extension": ".py",
   "mimetype": "text/x-python",
   "name": "python",
   "nbconvert_exporter": "python",
   "pygments_lexer": "ipython3",
   "version": "3.10.8"
  }
 },
 "nbformat": 4,
 "nbformat_minor": 5
}
