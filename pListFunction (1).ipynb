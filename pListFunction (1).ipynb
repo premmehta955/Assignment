{
 "cells": [
  {
   "cell_type": "markdown",
   "id": "89e35bf5-cb92-44fd-beaa-fcf855562331",
   "metadata": {},
   "source": [
    "Q1. What is the syntax for adding an element to a list in Python?"
   ]
  },
  {
   "cell_type": "raw",
   "id": "17478608-c0bb-4e1a-ab26-847cdd40059c",
   "metadata": {},
   "source": [
    "list_name=list_name.insert(index, new_element)\n",
    "print(list_name)"
   ]
  },
  {
   "cell_type": "markdown",
   "id": "11d98a4c-d25e-4f64-ad09-3fe85cede889",
   "metadata": {},
   "source": [
    "Q2. What is the difference between remove() and pop() functions in Python?"
   ]
  },
  {
   "cell_type": "raw",
   "id": "48da6aa1-1094-43c6-9a74-7b7d139e4021",
   "metadata": {},
   "source": [
    "For pop():\n",
    "     It delete element according to index which is provided by the user."
   ]
  },
  {
   "cell_type": "code",
   "execution_count": 3,
   "id": "3ba5e122-6192-4bb7-94da-e8527296f80b",
   "metadata": {},
   "outputs": [
    {
     "name": "stdout",
     "output_type": "stream",
     "text": [
      "[2, 5, 1, 9, 7]\n"
     ]
    }
   ],
   "source": [
    "# Example of pop()\n",
    "list=[2,5,6,1,9,7]\n",
    "list.pop(2) # to delete element present in index number 2 i.e 5.\n",
    "print(list)"
   ]
  },
  {
   "cell_type": "raw",
   "id": "19468459-c4f5-4eef-8aaf-da54ba86afee",
   "metadata": {},
   "source": [
    "For remove():\n",
    "    It delete element according to element name that is provided by the user."
   ]
  },
  {
   "cell_type": "code",
   "execution_count": 4,
   "id": "e40e0045-43db-4d6b-aa78-863a6a6ef8e2",
   "metadata": {},
   "outputs": [
    {
     "name": "stdout",
     "output_type": "stream",
     "text": [
      "[2, 5, 6, 1, 7]\n"
     ]
    }
   ],
   "source": [
    "#Example of remove()\n",
    "list=[2,5,6,1,9,7]\n",
    "list.remove(9) # to delete element 9, 9 is proided here.\n",
    "print(list)"
   ]
  },
  {
   "cell_type": "markdown",
   "id": "96fe61c6-7ae2-42b3-b358-27e3b02a0547",
   "metadata": {},
   "source": [
    "Q3. Write a Python code to sort a list in descending order."
   ]
  },
  {
   "cell_type": "code",
   "execution_count": 7,
   "id": "3261f960-ccf0-4ac4-9ea2-93b66460fc79",
   "metadata": {},
   "outputs": [
    {
     "name": "stdout",
     "output_type": "stream",
     "text": [
      "[9, 7, 6, 5, 2, 1]\n"
     ]
    }
   ],
   "source": [
    "list=[2,5,6,1,9,7]\n",
    "list.sort(reverse=True)\n",
    "print(list)"
   ]
  },
  {
   "cell_type": "markdown",
   "id": "8bb12b70-594f-4a16-98d9-c819e862f925",
   "metadata": {},
   "source": [
    "Q4. Write a Python code to count the number of occurrences of an element in a list."
   ]
  },
  {
   "cell_type": "code",
   "execution_count": 16,
   "id": "620838be-a1b6-4578-bd64-18e6be3623a8",
   "metadata": {},
   "outputs": [
    {
     "name": "stdout",
     "output_type": "stream",
     "text": [
      "6\n"
     ]
    }
   ],
   "source": [
    "list=[2,5,6,1,9,7]\n",
    "print(len(list))"
   ]
  },
  {
   "cell_type": "markdown",
   "id": "a3681b5c-6362-4df7-a32a-b2e219fa15dc",
   "metadata": {},
   "source": [
    "Q5. Write a Python code to reverse a list."
   ]
  },
  {
   "cell_type": "code",
   "execution_count": 20,
   "id": "7d116884-4106-4412-bf3b-ebc29f13a6ce",
   "metadata": {},
   "outputs": [
    {
     "name": "stdout",
     "output_type": "stream",
     "text": [
      "[7, 9, 1, 6, 5, 2]\n"
     ]
    }
   ],
   "source": [
    "list=[2,5,6,1,9,7]\n",
    "# print(list[::-1])\n",
    "list.reverse()\n",
    "print(list)"
   ]
  },
  {
   "cell_type": "code",
   "execution_count": null,
   "id": "22c4c47f-08f2-41c7-81c1-012cc32444bf",
   "metadata": {},
   "outputs": [],
   "source": []
  }
 ],
 "metadata": {
  "kernelspec": {
   "display_name": "Python 3 (ipykernel)",
   "language": "python",
   "name": "python3"
  },
  "language_info": {
   "codemirror_mode": {
    "name": "ipython",
    "version": 3
   },
   "file_extension": ".py",
   "mimetype": "text/x-python",
   "name": "python",
   "nbconvert_exporter": "python",
   "pygments_lexer": "ipython3",
   "version": "3.10.8"
  }
 },
 "nbformat": 4,
 "nbformat_minor": 5
}
