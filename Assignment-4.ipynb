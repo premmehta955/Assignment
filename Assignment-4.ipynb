{
 "cells": [
  {
   "cell_type": "markdown",
   "id": "0588c8d7-d908-4101-9c53-1f56b95aba71",
   "metadata": {},
   "source": [
    "Q1. Create an empty list."
   ]
  },
  {
   "cell_type": "code",
   "execution_count": 1,
   "id": "bb37d852-64da-49dc-8136-050f9c6cd793",
   "metadata": {},
   "outputs": [],
   "source": [
    "list=[ ]\n"
   ]
  },
  {
   "cell_type": "code",
   "execution_count": 2,
   "id": "b835def2-09f0-411b-b4e9-c10a121cd9e1",
   "metadata": {},
   "outputs": [
    {
     "name": "stdout",
     "output_type": "stream",
     "text": [
      "[]\n"
     ]
    }
   ],
   "source": [
    "print(list)"
   ]
  },
  {
   "cell_type": "markdown",
   "id": "1df5bac3-057e-4537-b414-a5cc591a9601",
   "metadata": {},
   "source": [
    "Q2. Create a list and add an element to the end of this list."
   ]
  },
  {
   "cell_type": "code",
   "execution_count": 39,
   "id": "fdd5a02e-d7f7-4c67-a15a-d626a877be89",
   "metadata": {},
   "outputs": [],
   "source": [
    "l=[4, 7,5,6, 8,]"
   ]
  },
  {
   "cell_type": "code",
   "execution_count": 40,
   "id": "0a0df858-79c0-4d28-91bb-ae37b307ba70",
   "metadata": {},
   "outputs": [],
   "source": [
    "l.append(9)"
   ]
  },
  {
   "cell_type": "markdown",
   "id": "16522137-cf04-4232-9510-9ab3ec74956a",
   "metadata": {},
   "source": [
    "Q3. For the above created list print the last element."
   ]
  },
  {
   "cell_type": "code",
   "execution_count": 41,
   "id": "f284e078-1c5b-4254-9711-326c04ce5561",
   "metadata": {},
   "outputs": [
    {
     "name": "stdout",
     "output_type": "stream",
     "text": [
      "9\n"
     ]
    }
   ],
   "source": [
    "print(l[-1])"
   ]
  },
  {
   "cell_type": "markdown",
   "id": "9dfb4e19-e402-4b47-a49e-7032ff7374c8",
   "metadata": {},
   "source": [
    "Q4. Reverse the above created list."
   ]
  },
  {
   "cell_type": "code",
   "execution_count": 42,
   "id": "e12d451b-16aa-47ed-abb1-421d860d791d",
   "metadata": {},
   "outputs": [
    {
     "name": "stdout",
     "output_type": "stream",
     "text": [
      "[4, 7, 5, 6, 8, 9]\n"
     ]
    }
   ],
   "source": [
    "print(l)"
   ]
  },
  {
   "cell_type": "code",
   "execution_count": 43,
   "id": "77aacbeb-d7f7-4b0b-8ecf-4463fd503a83",
   "metadata": {},
   "outputs": [
    {
     "name": "stdout",
     "output_type": "stream",
     "text": [
      "[9, 8, 6, 5, 7, 4]\n"
     ]
    }
   ],
   "source": [
    "print(l[-1::-1])"
   ]
  },
  {
   "cell_type": "markdown",
   "id": "b51b5199-3318-497a-806c-b4e7f1aa6972",
   "metadata": {},
   "source": [
    "Q5. Sort the above created list."
   ]
  },
  {
   "cell_type": "code",
   "execution_count": 44,
   "id": "8ecf40ec-b422-42ea-97ec-28ab59d0d1ed",
   "metadata": {},
   "outputs": [
    {
     "name": "stdout",
     "output_type": "stream",
     "text": [
      "[4, 7, 5, 6, 8, 9]\n"
     ]
    }
   ],
   "source": [
    "print(l)"
   ]
  },
  {
   "cell_type": "code",
   "execution_count": 50,
   "id": "801c4a2b-69cb-45c2-914c-226431155707",
   "metadata": {},
   "outputs": [
    {
     "name": "stdout",
     "output_type": "stream",
     "text": [
      "[4, 5, 6, 7, 8, 9]\n"
     ]
    }
   ],
   "source": [
    "m=l.sort()\n",
    "print(sorted(l))"
   ]
  },
  {
   "cell_type": "markdown",
   "id": "4aa66e2d-fa99-4952-b01f-24cde6c14a80",
   "metadata": {},
   "source": [
    "Q6. Create a list of your top three favorite movies, then print the second movie title."
   ]
  },
  {
   "cell_type": "code",
   "execution_count": 51,
   "id": "4e6e597d-b92b-48b1-b600-6e90435c80dc",
   "metadata": {},
   "outputs": [],
   "source": [
    "movie=[\"Ramayan\", \"Aama\", \"Avengers\"]"
   ]
  },
  {
   "cell_type": "code",
   "execution_count": 55,
   "id": "17163bd7-1270-4f22-a6f0-dbd221589f93",
   "metadata": {},
   "outputs": [
    {
     "name": "stdout",
     "output_type": "stream",
     "text": [
      "Aama\n"
     ]
    }
   ],
   "source": [
    "print(movie[1])"
   ]
  },
  {
   "cell_type": "markdown",
   "id": "d47cdc07-cc15-4cac-b63b-18589fc66c5c",
   "metadata": {},
   "source": [
    "Q7. Create a list of your favorite animals, then add a new animal to the list and print the updated list."
   ]
  },
  {
   "cell_type": "code",
   "execution_count": 56,
   "id": "6a772d92-888e-4e30-a428-7203de0369c7",
   "metadata": {},
   "outputs": [],
   "source": [
    "animal=[\"lion\", \"parrot\", \"dog\",\"horse\"]"
   ]
  },
  {
   "cell_type": "code",
   "execution_count": 57,
   "id": "399141b7-5f4e-4320-b1d7-5cff32b32a18",
   "metadata": {},
   "outputs": [],
   "source": [
    "animal.append(\"cow\")"
   ]
  },
  {
   "cell_type": "code",
   "execution_count": 58,
   "id": "d066c210-ece4-4022-839c-5bd7ce118d16",
   "metadata": {},
   "outputs": [
    {
     "name": "stdout",
     "output_type": "stream",
     "text": [
      "cow\n"
     ]
    }
   ],
   "source": [
    "print(animal[-1])"
   ]
  },
  {
   "cell_type": "markdown",
   "id": "6538639f-0307-4097-959d-8299bbcdf56b",
   "metadata": {},
   "source": [
    "Q8. Create a list of your favorite cities, then use the index() method to find the position of a specific city\n",
    "on the list and print it."
   ]
  },
  {
   "cell_type": "code",
   "execution_count": 59,
   "id": "c8737702-bb7c-4b78-a741-e5316981cacf",
   "metadata": {},
   "outputs": [],
   "source": [
    "cities=[\"kathmandu\", \"Inaruwa\", \"Biratnagar\",\"Itahari\"]\n"
   ]
  },
  {
   "cell_type": "code",
   "execution_count": 60,
   "id": "92f5c1f0-dace-4e4c-bc21-2ce32663f72a",
   "metadata": {},
   "outputs": [
    {
     "name": "stdout",
     "output_type": "stream",
     "text": [
      "1\n"
     ]
    }
   ],
   "source": [
    "print(cities.index(\"Inaruwa\"))\n",
    "print()"
   ]
  },
  {
   "cell_type": "code",
   "execution_count": null,
   "id": "d1f97f79-0761-439e-9c3a-cb3b35dfd662",
   "metadata": {},
   "outputs": [],
   "source": []
  }
 ],
 "metadata": {
  "kernelspec": {
   "display_name": "Python 3 (ipykernel)",
   "language": "python",
   "name": "python3"
  },
  "language_info": {
   "codemirror_mode": {
    "name": "ipython",
    "version": 3
   },
   "file_extension": ".py",
   "mimetype": "text/x-python",
   "name": "python",
   "nbconvert_exporter": "python",
   "pygments_lexer": "ipython3",
   "version": "3.10.8"
  }
 },
 "nbformat": 4,
 "nbformat_minor": 5
}
