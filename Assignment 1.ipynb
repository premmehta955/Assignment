{
 "cells": [
  {
   "cell_type": "markdown",
   "id": "daead6f6-ee55-4154-bad4-0d7f0659b078",
   "metadata": {},
   "source": [
    "Q1. Write all the conventions being followed while declaring a variable.\n",
    "    Answer: \n",
    "     i. Variable names should be lowercase, and words should be seperated by underscores.\n",
    "    ii. Blank space cannot be used as variable name.\n",
    "   iii. Variable names are case sensitive.  \n",
    "    iv. Special character cannot be used in variable name.\n",
    "\n",
    "Q2. What will happen if we declare a restricted keyword as a variable?\n",
    "    Answer:\n",
    "    If we declare a restricted keyword as a variable, then we will face syntax Error.\n",
    "\n",
    "Q3. Can we actually declare a string as a variable name?\n",
    "     Answer:\n",
    "    Yes, we can declare a string as a variable name.\n",
    "\n",
    "Q4. Is it possible for us to declare \"_\" as a variable? if so, then write an example of it.\n",
    "     Answer: \n",
    "       Yes, it is possible.\n",
    "     \n",
    "     _=\"Prem\"\n",
    "      print(_)\n",
    "\n",
    "Q5. Using an example, explain how the variables in python are dynamic in nature.\n",
    "      Answer:\n",
    "      a=9\n",
    "      a=2\n",
    "      print(a)\n",
    "     \n",
    "    –> Initally, variable a was assign with value 9 but after again a is assign with value 2 \n",
    "       which make sure variable is dynamic."
   ]
  },
  {
   "cell_type": "code",
   "execution_count": null,
   "id": "2fecf73f-508b-473e-9ac0-3e98258725c3",
   "metadata": {},
   "outputs": [],
   "source": []
  }
 ],
 "metadata": {
  "kernelspec": {
   "display_name": "Python 3 (ipykernel)",
   "language": "python",
   "name": "python3"
  },
  "language_info": {
   "codemirror_mode": {
    "name": "ipython",
    "version": 3
   },
   "file_extension": ".py",
   "mimetype": "text/x-python",
   "name": "python",
   "nbconvert_exporter": "python",
   "pygments_lexer": "ipython3",
   "version": "3.10.8"
  }
 },
 "nbformat": 4,
 "nbformat_minor": 5
}
